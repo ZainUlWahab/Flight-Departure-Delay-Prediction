{
 "cells": [
  {
   "cell_type": "markdown",
   "metadata": {},
   "source": [
    "## Creating my train.csv\n",
    "\n",
    "In this jupyter notebook i will be creating my train.csv by using the techniques used in the previous 2 jupyter notebooks\n",
    "\n",
    "    -> reading_data_from_docx.ipynb\n",
    "    \n",
    "    -> joining_weather_and_flight.ipynb"
   ]
  },
  {
   "cell_type": "markdown",
   "metadata": {},
   "source": [
    "## Importing Libraries"
   ]
  },
  {
   "cell_type": "code",
   "execution_count": 1,
   "metadata": {},
   "outputs": [],
   "source": [
    "from docx import Document\n",
    "import json\n",
    "import os\n",
    "import numpy as np\n",
    "import pandas as pd"
   ]
  },
  {
   "cell_type": "markdown",
   "metadata": {},
   "source": [
    "## Helper functions from my reading_data_from_docx.ipynb"
   ]
  },
  {
   "cell_type": "code",
   "execution_count": 14,
   "metadata": {},
   "outputs": [],
   "source": [
    "def read_docx_json(file_path):\n",
    "    doc = Document(file_path)\n",
    "    full_text = \"\\n\".join([para.text for para in doc.paragraphs])\n",
    "    try:\n",
    "        data = json.loads(full_text)\n",
    "        return data\n",
    "    except json.JSONDecodeError as e:\n",
    "        print(\"Error decoding JSON:\", e)\n",
    "        return None\n",
    "def process_folder(folder_path):\n",
    "    all_data = []\n",
    "    for i,file_name in enumerate(os.listdir(folder_path)):\n",
    "        if file_name.endswith(\".docx\"):\n",
    "            file_path = os.path.join(folder_path, file_name)\n",
    "            print(f\"Processing file: {file_name}\")\n",
    "            data = read_docx_json(file_path)\n",
    "            if data:\n",
    "                if isinstance(data, list):\n",
    "                    all_data.extend(data)\n",
    "                else:\n",
    "                    print(f\"File {file_name} does not contain a list; skipping.\")\n",
    "    return all_data\n",
    "def process_parsed_data(parsed_data):\n",
    "    records = []\n",
    "    for i in range(len(parsed_data)):\n",
    "        type_ = parsed_data[i].get('type',np.nan)\n",
    "        status_ = parsed_data[i].get('status',np.nan)    \n",
    "        try:\n",
    "            departure_dict = parsed_data[i]['departure']\n",
    "            departure_iata_code = departure_dict.get('iataCode', np.nan)\n",
    "            departure_icao_code = departure_dict.get('icaoCode', np.nan)\n",
    "            departure_terminal = departure_dict.get('terminal', np.nan)\n",
    "            departure_gate = departure_dict.get('gate', np.nan)\n",
    "            departure_scheduled_time = departure_dict.get('scheduledTime', np.nan)\n",
    "            departure_estimated_time = departure_dict.get('estimatedTime', np.nan)\n",
    "            departure_actual_time = departure_dict.get('actualTime', np.nan)\n",
    "            departure_estimated_runway = departure_dict.get('estimatedRunway', np.nan)\n",
    "            departure_actual_runway = departure_dict.get('actualRunway', np.nan)\n",
    "        except:\n",
    "            departure_iata_code = np.nan\n",
    "            departure_icao_code = np.nan\n",
    "            departure_terminal = np.nan\n",
    "            departure_gate = np.nan\n",
    "            departure_scheduled_time = np.nan\n",
    "            departure_estimated_time = np.nan\n",
    "            departure_actual_time = np.nan\n",
    "            departure_estimated_runway = np.nan\n",
    "            departure_actual_runway = np.nan\n",
    "        try:\n",
    "            arrival_dict = parsed_data[i]['arrival']\n",
    "            arrival_iata_code = arrival_dict.get('iataCode', np.nan)\n",
    "            arrival_icao_code = arrival_dict.get('icaoCode', np.nan)\n",
    "            arrival_terminal = arrival_dict.get('terminal', np.nan)\n",
    "            arrival_scheduled_time = arrival_dict.get('scheduledTime', np.nan)\n",
    "            arrival_estimated_time = arrival_dict.get('estimatedTime', np.nan)\n",
    "            arrival_actual_time = arrival_dict.get('actualTime', np.nan)\n",
    "            arrival_estimated_runway = arrival_dict.get('estimatedRunway', np.nan)\n",
    "            arrival_actual_runway = arrival_dict.get('actualRunway', np.nan)\n",
    "        except:\n",
    "            arrival_iata_code = np.nan\n",
    "            arrival_icao_code = np.nan\n",
    "            arrival_terminal = np.nan\n",
    "            arrival_scheduled_time = np.nan\n",
    "            arrival_estimated_time = np.nan\n",
    "            arrival_actual_time = np.nan\n",
    "            arrival_estimated_runway = np.nan\n",
    "            arrival_actual_runway = np.nan\n",
    "        try:\n",
    "            airline_dict = parsed_data[i]['airline']\n",
    "            airline_name = airline_dict.get('name',np.nan)\n",
    "            airline_iata_code = airline_dict.get('iataCode',np.nan)\n",
    "            airline_icao_code = airline_dict.get('icaoCode',np.nan)\n",
    "        except:\n",
    "            airline_name = np.nan\n",
    "            airline_iata_code = np.nan\n",
    "            airline_icao_code = np.nan\n",
    "        try:\n",
    "            flight_dict = parsed_data[i]['flight']\n",
    "            flight_number = flight_dict.get('number',np.nan)\n",
    "            flight_iataNumber = flight_dict.get('iataNumber',np.nan)\n",
    "            flight_icaoNumber = flight_dict.get('icaoNumber',np.nan)\n",
    "        except:\n",
    "            flight_number = np.nan\n",
    "            flight_iataNumber = np.nan\n",
    "            flight_icaoNumber = np.nan\n",
    "        try:\n",
    "            code_shared_dict = parsed_data[i]['codeshared']\n",
    "            code_shared_flag = 1\n",
    "            code_shared_airline = code_shared_dict.get('airline', {}).get('name', np.nan)\n",
    "        except:\n",
    "            code_shared_flag = 0\n",
    "            code_shared_airline = np.nan\n",
    "        record = {\n",
    "            \"type\": type_,\n",
    "            \"status\": status_,\n",
    "            \"departure_iata_code\": departure_iata_code,\n",
    "            \"departure_icao_code\": departure_icao_code,\n",
    "            \"departure_terminal\": departure_terminal,\n",
    "            \"departure_gate\": departure_gate,\n",
    "            \"departure_scheduled_time\": departure_scheduled_time,\n",
    "            \"departure_estimated_time\": departure_estimated_time,\n",
    "            \"departure_actual_time\": departure_actual_time,\n",
    "            \"departure_estimated_runway\": departure_estimated_runway,\n",
    "            \"departure_actual_runway\": departure_actual_runway,\n",
    "            \"arrival_iata_code\": arrival_iata_code,\n",
    "            \"arrival_icao_code\": arrival_icao_code,\n",
    "            \"arrival_terminal\": arrival_terminal,\n",
    "            \"arrival_scheduled_time\": arrival_scheduled_time,\n",
    "            \"arrival_estimated_time\": arrival_estimated_time,\n",
    "            \"arrival_actual_time\": arrival_actual_time,\n",
    "            \"arrival_estimated_runway\": arrival_estimated_runway,\n",
    "            \"arrival_actual_runway\": arrival_actual_runway,\n",
    "            \"airline_name\": airline_name,\n",
    "            \"airline_iata_code\": airline_iata_code,\n",
    "            \"airline_icao_code\": airline_icao_code,\n",
    "            \"flight_number\": flight_number,\n",
    "            \"flight_iataNumber\": flight_iataNumber,\n",
    "            \"flight_icaoNumber\": flight_icaoNumber,\n",
    "            \"code_shared_flag\": code_shared_flag,\n",
    "            \"code_shared_airline\": code_shared_airline,\n",
    "        }\n",
    "        records.append(record)\n",
    "    df = pd.DataFrame(records)\n",
    "    return df"
   ]
  },
  {
   "cell_type": "code",
   "execution_count": 15,
   "metadata": {},
   "outputs": [],
   "source": [
    "def get_weather_df(folder_name = 'Weather_formatted'):\n",
    "    weather_df_combined = pd.read_csv('combined_weather.csv')\n",
    "    return weather_df_combined\n",
    "def merge_dfs(main_df,weather_df):\n",
    "    result_df = pd.merge(\n",
    "        main_df,\n",
    "        weather_df,\n",
    "        on=['Month', 'Day'],\n",
    "        how='left'\n",
    "    )\n",
    "    return result_df\n",
    "def combine_weather_and_flight_data(df_new,weather_folder='Weather_formatted'):\n",
    "    flight_data = df_new\n",
    "    needed_features = ['flight_number','type','code_shared_flag','airline_name','status','departure_iata_code','departure_icao_code','departure_scheduled_time',\n",
    "                    'departure_actual_time','arrival_iata_code','arrival_icao_code','arrival_estimated_time']\n",
    "    filtered_flight_data = flight_data[needed_features]\n",
    "    columns_to_convert_to_datetime = ['departure_scheduled_time','departure_actual_time','arrival_estimated_time']\n",
    "    for col in columns_to_convert_to_datetime:\n",
    "        filtered_flight_data[col] = pd.to_datetime(filtered_flight_data[col], errors='coerce')\n",
    "    df = filtered_flight_data.copy()\n",
    "    df['Month'] = df['departure_scheduled_time'].dt.strftime('%b')\n",
    "    df['Day'] = df['departure_scheduled_time'].dt.day\n",
    "    weather_df = get_weather_df(weather_folder)\n",
    "    result_df = merge_dfs(df,weather_df=weather_df)\n",
    "    return result_df"
   ]
  },
  {
   "cell_type": "markdown",
   "metadata": {},
   "source": [
    "## Creation of the dataframe"
   ]
  },
  {
   "cell_type": "code",
   "execution_count": 16,
   "metadata": {},
   "outputs": [
    {
     "name": "stdout",
     "output_type": "stream",
     "text": [
      "Processing file: 13.docx\n",
      "Processing file: 18.docx\n",
      "Processing file: 23.docx\n",
      "Processing file: 33.docx\n",
      "Processing file: 44.docx\n",
      "Processing file: 42.docx\n",
      "Processing file: 36.docx\n",
      "Processing file: 63.docx\n",
      "Processing file: 40.docx\n",
      "Processing file: 20.docx\n",
      "Processing file: 53.docx\n",
      "Processing file: 10.docx\n",
      "Processing file: 65.docx\n",
      "Processing file: 51.docx\n",
      "Processing file: 4.docx\n",
      "Processing file: 9.docx\n",
      "Processing file: 25.docx\n",
      "Processing file: 17.docx\n",
      "Processing file: 7.docx\n",
      "Processing file: 62.docx\n",
      "Processing file: 12.docx\n",
      "Processing file: 8.docx\n",
      "Processing file: 54.docx\n",
      "Processing file: 55.docx\n",
      "Processing file: 14.docx\n",
      "Processing file: 2.docx\n",
      "Processing file: 32.docx\n",
      "Processing file: 49.docx\n",
      "Processing file: 39.docx\n",
      "Processing file: 67.docx\n",
      "Processing file: 1.docx\n",
      "Processing file: 45.docx\n",
      "Processing file: 30.docx\n",
      "Processing file: 46.docx\n",
      "Processing file: 56.docx\n",
      "Processing file: 26.docx\n",
      "Processing file: 48.docx\n",
      "Processing file: 47.docx\n",
      "Processing file: 52.docx\n",
      "Processing file: 19.docx\n",
      "Processing file: 37.docx\n",
      "Processing file: 43.docx\n",
      "Processing file: 16.docx\n",
      "Processing file: 27.docx\n",
      "Processing file: 15.docx\n",
      "Processing file: 21.docx\n",
      "Processing file: 35.docx\n",
      "Processing file: 3.docx\n",
      "Processing file: 28.docx\n",
      "Processing file: 64.docx\n",
      "Processing file: 41.docx\n",
      "Processing file: 22.docx\n",
      "Processing file: 58.docx\n",
      "Processing file: 5.docx\n",
      "Processing file: 24.docx\n",
      "Processing file: 59.docx\n",
      "Processing file: 60.docx\n",
      "Processing file: 71.docx\n",
      "Processing file: 6.docx\n",
      "Processing file: 31.docx\n",
      "Processing file: 57.docx\n",
      "Processing file: 50.docx\n",
      "Processing file: 66.docx\n",
      "Processing file: 34.docx\n",
      "Processing file: 70.docx\n",
      "Processing file: 11.docx\n",
      "Processing file: 69.docx\n",
      "Processing file: 72.docx\n",
      "Processing file: 68.docx\n",
      "Processing file: 29.docx\n",
      "Processing file: 61.docx\n"
     ]
    }
   ],
   "source": [
    "folder_path = \"Test\"\n",
    "parsed_data = process_folder(folder_path)"
   ]
  },
  {
   "cell_type": "code",
   "execution_count": 18,
   "metadata": {},
   "outputs": [
    {
     "data": {
      "text/plain": [
       "14910"
      ]
     },
     "execution_count": 18,
     "metadata": {},
     "output_type": "execute_result"
    }
   ],
   "source": [
    "len(parsed_data)"
   ]
  },
  {
   "cell_type": "code",
   "execution_count": 19,
   "metadata": {},
   "outputs": [],
   "source": [
    "df = process_parsed_data(parsed_data=parsed_data)"
   ]
  },
  {
   "cell_type": "code",
   "execution_count": 20,
   "metadata": {},
   "outputs": [
    {
     "data": {
      "text/plain": [
       "(14910, 27)"
      ]
     },
     "execution_count": 20,
     "metadata": {},
     "output_type": "execute_result"
    }
   ],
   "source": [
    "df.shape"
   ]
  },
  {
   "cell_type": "code",
   "execution_count": 7,
   "metadata": {},
   "outputs": [
    {
     "name": "stderr",
     "output_type": "stream",
     "text": [
      "/tmp/ipykernel_2454/3649637197.py:19: SettingWithCopyWarning: \n",
      "A value is trying to be set on a copy of a slice from a DataFrame.\n",
      "Try using .loc[row_indexer,col_indexer] = value instead\n",
      "\n",
      "See the caveats in the documentation: https://pandas.pydata.org/pandas-docs/stable/user_guide/indexing.html#returning-a-view-versus-a-copy\n",
      "  filtered_flight_data[col] = pd.to_datetime(filtered_flight_data[col], errors='coerce')\n",
      "/tmp/ipykernel_2454/3649637197.py:19: SettingWithCopyWarning: \n",
      "A value is trying to be set on a copy of a slice from a DataFrame.\n",
      "Try using .loc[row_indexer,col_indexer] = value instead\n",
      "\n",
      "See the caveats in the documentation: https://pandas.pydata.org/pandas-docs/stable/user_guide/indexing.html#returning-a-view-versus-a-copy\n",
      "  filtered_flight_data[col] = pd.to_datetime(filtered_flight_data[col], errors='coerce')\n",
      "/tmp/ipykernel_2454/3649637197.py:19: SettingWithCopyWarning: \n",
      "A value is trying to be set on a copy of a slice from a DataFrame.\n",
      "Try using .loc[row_indexer,col_indexer] = value instead\n",
      "\n",
      "See the caveats in the documentation: https://pandas.pydata.org/pandas-docs/stable/user_guide/indexing.html#returning-a-view-versus-a-copy\n",
      "  filtered_flight_data[col] = pd.to_datetime(filtered_flight_data[col], errors='coerce')\n"
     ]
    }
   ],
   "source": [
    "df = combine_weather_and_flight_data(df)"
   ]
  },
  {
   "cell_type": "code",
   "execution_count": 9,
   "metadata": {},
   "outputs": [],
   "source": [
    "df.drop(columns='departure_actual_time',inplace=True)"
   ]
  },
  {
   "cell_type": "code",
   "execution_count": 10,
   "metadata": {},
   "outputs": [],
   "source": [
    "df['day_of_week'] = df['departure_scheduled_time'].dt.day_name()\n",
    "df['hour_of_day'] = df['departure_scheduled_time'].dt.hour"
   ]
  },
  {
   "cell_type": "code",
   "execution_count": 11,
   "metadata": {},
   "outputs": [],
   "source": [
    "df.drop(columns='arrival_estimated_time',inplace=True)"
   ]
  },
  {
   "cell_type": "code",
   "execution_count": 12,
   "metadata": {},
   "outputs": [
    {
     "data": {
      "text/plain": [
       "flight_number               0\n",
       "type                        0\n",
       "code_shared_flag            0\n",
       "airline_name                0\n",
       "status                      0\n",
       "departure_iata_code         0\n",
       "departure_icao_code         0\n",
       "departure_scheduled_time    0\n",
       "arrival_iata_code           0\n",
       "arrival_icao_code           0\n",
       "Month                       0\n",
       "Day                         0\n",
       "Unnamed: 0                  0\n",
       "Temperature (°F)_max        0\n",
       "Temperature (°F)_avg        0\n",
       "Temperature (°F)_min        0\n",
       "Dew Point (°F)_max          0\n",
       "Dew Point (°F)_avg          0\n",
       "Dew Point (°F)_min          0\n",
       "Humidity (%)_max            0\n",
       "Humidity (%)_avg            0\n",
       "Humidity (%)_min            0\n",
       "Wind Speed (mph)_max        0\n",
       "Wind Speed (mph)_avg        0\n",
       "Wind Speed (mph)_min        0\n",
       "Pressure (in)_max           0\n",
       "Pressure (in)_avg           0\n",
       "Pressure (in)_min           0\n",
       "day_of_week                 0\n",
       "hour_of_day                 0\n",
       "dtype: int64"
      ]
     },
     "execution_count": 12,
     "metadata": {},
     "output_type": "execute_result"
    }
   ],
   "source": [
    "df.isnull().sum()"
   ]
  },
  {
   "cell_type": "markdown",
   "metadata": {},
   "source": [
    "## Saving dataframe to test.csv"
   ]
  },
  {
   "cell_type": "code",
   "execution_count": 13,
   "metadata": {},
   "outputs": [],
   "source": [
    "df.to_csv('test.csv')"
   ]
  },
  {
   "cell_type": "code",
   "execution_count": null,
   "metadata": {},
   "outputs": [],
   "source": []
  }
 ],
 "metadata": {
  "kernelspec": {
   "display_name": "ml_old_python",
   "language": "python",
   "name": "python3"
  },
  "language_info": {
   "codemirror_mode": {
    "name": "ipython",
    "version": 3
   },
   "file_extension": ".py",
   "mimetype": "text/x-python",
   "name": "python",
   "nbconvert_exporter": "python",
   "pygments_lexer": "ipython3",
   "version": "3.11.9"
  }
 },
 "nbformat": 4,
 "nbformat_minor": 2
}
