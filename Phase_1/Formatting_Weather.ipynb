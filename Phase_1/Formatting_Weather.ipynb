{
 "cells": [
  {
   "cell_type": "markdown",
   "metadata": {},
   "source": [
    "# Formatting Weather Data"
   ]
  },
  {
   "cell_type": "markdown",
   "metadata": {},
   "source": [
    "In this jupyter notebook i formatted the weather data so that it is in proper CSVs.\n",
    "\n",
    "The approach i took is to have a seperate csv for each month."
   ]
  },
  {
   "cell_type": "markdown",
   "metadata": {},
   "source": [
    "## Importing Libraries"
   ]
  },
  {
   "cell_type": "code",
   "execution_count": 6,
   "metadata": {},
   "outputs": [],
   "source": [
    "import os\n",
    "import numpy as np\n",
    "import pandas as pd"
   ]
  },
  {
   "cell_type": "markdown",
   "metadata": {},
   "source": [
    "## Reading all the excel files"
   ]
  },
  {
   "cell_type": "code",
   "execution_count": 7,
   "metadata": {},
   "outputs": [],
   "source": [
    "directory = 'Weather/'\n",
    "new_directory = 'Weather_formatted'\n",
    "excel_files = [f for f in os.listdir(directory) if f.endswith('.xlsx')]\n",
    "os.makedirs('Weather_formatted', exist_ok=True)"
   ]
  },
  {
   "cell_type": "code",
   "execution_count": 11,
   "metadata": {},
   "outputs": [],
   "source": [
    "df = pd.read_excel(os.path.join(directory, excel_files[3]))\n",
    "time_col = df['Time'][0].split()\n",
    "df_new = pd.DataFrame({\n",
    "    'Month': time_col[0],\n",
    "    'Day' : time_col[1:],\n",
    "}\n",
    ")\n",
    "columns = list(df.columns)\n",
    "columns.pop(0)\n",
    "columns.pop(5)\n",
    "# columns\n",
    "for col in columns:\n",
    "    temp_col = df[col][0].split()\n",
    "    max_col = []\n",
    "    avg_col = []\n",
    "    min_col = []\n",
    "    for i in range(0,len(temp_col)-3,3):\n",
    "        max_col.append(temp_col[i+3])\n",
    "        avg_col.append(temp_col[i+4])\n",
    "        min_col.append(temp_col[i+5])\n",
    "    df_new[f\"{col}_max\"] = max_col\n",
    "    df_new[f\"{col}_avg\"] = avg_col\n",
    "    df_new[f\"{col}_min\"] = min_col\n",
    "df_new.to_csv(f\"{new_directory}/{time_col[0]}.csv\",index=False)"
   ]
  },
  {
   "cell_type": "markdown",
   "metadata": {},
   "source": [
    "## Formatting data and saving it in seperate CSVs"
   ]
  },
  {
   "cell_type": "code",
   "execution_count": 10,
   "metadata": {},
   "outputs": [],
   "source": [
    "for file in excel_files:\n",
    "    df = pd.read_excel(os.path.join(directory, file))\n",
    "    time_col = df['Time'][0].split()\n",
    "    df_new = pd.DataFrame({\n",
    "        'Month': time_col[0],\n",
    "        'Day' : time_col[1:],\n",
    "    }\n",
    "    )\n",
    "    columns = list(df.columns)\n",
    "    columns.pop(0)\n",
    "    columns.pop(5)\n",
    "    # columns\n",
    "    for col in columns:\n",
    "        temp_col = df[col][0].split()\n",
    "        max_col = []\n",
    "        avg_col = []\n",
    "        min_col = []\n",
    "        for i in range(0,len(temp_col)-3,3):\n",
    "            max_col.append(temp_col[i+3])\n",
    "            avg_col.append(temp_col[i+4])\n",
    "            min_col.append(temp_col[i+5])\n",
    "        df_new[f\"{col}_max\"] = max_col\n",
    "        df_new[f\"{col}_avg\"] = avg_col\n",
    "        df_new[f\"{col}_min\"] = min_col\n",
    "    df_new.to_csv(f\"{new_directory}/{time_col[0]}.csv\",index=False)"
   ]
  },
  {
   "cell_type": "code",
   "execution_count": null,
   "metadata": {},
   "outputs": [],
   "source": []
  }
 ],
 "metadata": {
  "kernelspec": {
   "display_name": "ml_old_python",
   "language": "python",
   "name": "python3"
  },
  "language_info": {
   "codemirror_mode": {
    "name": "ipython",
    "version": 3
   },
   "file_extension": ".py",
   "mimetype": "text/x-python",
   "name": "python",
   "nbconvert_exporter": "python",
   "pygments_lexer": "ipython3",
   "version": "3.11.9"
  }
 },
 "nbformat": 4,
 "nbformat_minor": 2
}
