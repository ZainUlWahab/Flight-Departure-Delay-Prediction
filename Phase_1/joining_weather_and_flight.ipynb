{
 "cells": [
  {
   "cell_type": "markdown",
   "metadata": {},
   "source": [
    "# Joining Weather and flight data\n",
    "\n",
    "In this jupyter notebook i joined the weather and flight data.\n",
    "\n",
    "I also did feature engineering to create and derive new features\n",
    "\n",
    "I also filled nan values"
   ]
  },
  {
   "cell_type": "markdown",
   "metadata": {},
   "source": [
    "## Importing Libraries"
   ]
  },
  {
   "cell_type": "code",
   "execution_count": 35,
   "metadata": {},
   "outputs": [],
   "source": [
    "import os\n",
    "import numpy as np\n",
    "import pandas as pd"
   ]
  },
  {
   "cell_type": "markdown",
   "metadata": {},
   "source": [
    "## Get the weather data into a single dataframe\n",
    "\n",
    "This is done so that later on it is easy to merge with the flight data"
   ]
  },
  {
   "cell_type": "code",
   "execution_count": 36,
   "metadata": {},
   "outputs": [],
   "source": [
    "def get_weather_df(folder_name = 'Weather_formatted'):\n",
    "    weather_folder = folder_name\n",
    "    weather_files = [f for f in os.listdir(weather_folder) if f.endswith('.csv')]\n",
    "    weather_data = []\n",
    "    for file in weather_files:\n",
    "        month_name = file.split('.')[0]\n",
    "        weather_df = pd.read_csv(os.path.join(weather_folder, file))\n",
    "        weather_df['Month'] = month_name\n",
    "        weather_data.append(weather_df)\n",
    "    weather_df_combined = pd.concat(weather_data, ignore_index=True)\n",
    "    weather_df_combined['Day'] = weather_df_combined['Day'].astype(int)\n",
    "    weather_df_combined.to_csv('combined_weather.csv')\n",
    "    return weather_df_combined"
   ]
  },
  {
   "cell_type": "markdown",
   "metadata": {},
   "source": [
    "## Combine weather and flight data"
   ]
  },
  {
   "cell_type": "code",
   "execution_count": 37,
   "metadata": {},
   "outputs": [],
   "source": [
    "def merge_dfs(main_df,weather_df):\n",
    "    result_df = pd.merge(\n",
    "        main_df,\n",
    "        weather_df,\n",
    "        on=['Month', 'Day'],\n",
    "        how='left'\n",
    "    )\n",
    "    return result_df"
   ]
  },
  {
   "cell_type": "code",
   "execution_count": 38,
   "metadata": {},
   "outputs": [],
   "source": [
    "def combine_weather_and_flight_data(main_csv_path,weather_folder='Weather_formatted'):\n",
    "    flight_data = pd.read_csv(main_csv_path)\n",
    "    needed_features = ['flight_number','airline_name','code_shared_flag','type','status','departure_iata_code','departure_icao_code','departure_scheduled_time',\n",
    "                    'departure_actual_time','arrival_iata_code','arrival_icao_code','arrival_estimated_time']\n",
    "    filtered_flight_data = flight_data[needed_features]\n",
    "    columns_to_convert_to_datetime = ['departure_scheduled_time','departure_actual_time','arrival_estimated_time']\n",
    "    for col in columns_to_convert_to_datetime:\n",
    "        filtered_flight_data[col] = pd.to_datetime(filtered_flight_data[col], errors='coerce')\n",
    "    df = filtered_flight_data.copy()\n",
    "    df['Month'] = df['departure_scheduled_time'].dt.strftime('%b')\n",
    "    df['Day'] = df['departure_scheduled_time'].dt.day\n",
    "    weather_df = get_weather_df(weather_folder)\n",
    "    result_df = merge_dfs(df,weather_df=weather_df)\n",
    "    return result_df"
   ]
  },
  {
   "cell_type": "code",
   "execution_count": 39,
   "metadata": {},
   "outputs": [
    {
     "name": "stderr",
     "output_type": "stream",
     "text": [
      "/tmp/ipykernel_8406/347225113.py:8: SettingWithCopyWarning: \n",
      "A value is trying to be set on a copy of a slice from a DataFrame.\n",
      "Try using .loc[row_indexer,col_indexer] = value instead\n",
      "\n",
      "See the caveats in the documentation: https://pandas.pydata.org/pandas-docs/stable/user_guide/indexing.html#returning-a-view-versus-a-copy\n",
      "  filtered_flight_data[col] = pd.to_datetime(filtered_flight_data[col], errors='coerce')\n",
      "/tmp/ipykernel_8406/347225113.py:8: SettingWithCopyWarning: \n",
      "A value is trying to be set on a copy of a slice from a DataFrame.\n",
      "Try using .loc[row_indexer,col_indexer] = value instead\n",
      "\n",
      "See the caveats in the documentation: https://pandas.pydata.org/pandas-docs/stable/user_guide/indexing.html#returning-a-view-versus-a-copy\n",
      "  filtered_flight_data[col] = pd.to_datetime(filtered_flight_data[col], errors='coerce')\n",
      "/tmp/ipykernel_8406/347225113.py:8: SettingWithCopyWarning: \n",
      "A value is trying to be set on a copy of a slice from a DataFrame.\n",
      "Try using .loc[row_indexer,col_indexer] = value instead\n",
      "\n",
      "See the caveats in the documentation: https://pandas.pydata.org/pandas-docs/stable/user_guide/indexing.html#returning-a-view-versus-a-copy\n",
      "  filtered_flight_data[col] = pd.to_datetime(filtered_flight_data[col], errors='coerce')\n"
     ]
    }
   ],
   "source": [
    "df = combine_weather_and_flight_data('output.csv')"
   ]
  },
  {
   "cell_type": "markdown",
   "metadata": {},
   "source": [
    "## Feature Engineering"
   ]
  },
  {
   "cell_type": "markdown",
   "metadata": {},
   "source": [
    "Tasks Left:\n",
    "\n",
    "Delay time in minutes banana\n",
    "\n",
    "Day of the week banana\n",
    "\n",
    "Hour of the day\n",
    "\n",
    "Month(already done)"
   ]
  },
  {
   "cell_type": "markdown",
   "metadata": {},
   "source": [
    "### Calculate Delay time"
   ]
  },
  {
   "cell_type": "code",
   "execution_count": null,
   "metadata": {},
   "outputs": [],
   "source": [
    "df['departure_scheduled_time'] = pd.to_datetime(df['departure_scheduled_time'])\n",
    "df['departure_actual_time'] = pd.to_datetime(df['departure_actual_time'], errors='coerce')\n",
    "df['delay_time'] = (df['departure_actual_time'] - df['departure_scheduled_time']).dt.total_seconds()\n",
    "df['delay_time'] = df['delay_time'] / 60"
   ]
  },
  {
   "cell_type": "code",
   "execution_count": null,
   "metadata": {},
   "outputs": [
    {
     "data": {
      "text/html": [
       "<div>\n",
       "<style scoped>\n",
       "    .dataframe tbody tr th:only-of-type {\n",
       "        vertical-align: middle;\n",
       "    }\n",
       "\n",
       "    .dataframe tbody tr th {\n",
       "        vertical-align: top;\n",
       "    }\n",
       "\n",
       "    .dataframe thead th {\n",
       "        text-align: right;\n",
       "    }\n",
       "</style>\n",
       "<table border=\"1\" class=\"dataframe\">\n",
       "  <thead>\n",
       "    <tr style=\"text-align: right;\">\n",
       "      <th></th>\n",
       "      <th>arrival_scheduled_time</th>\n",
       "      <th>arrival_estimated_time</th>\n",
       "      <th>delay_time</th>\n",
       "    </tr>\n",
       "  </thead>\n",
       "  <tbody>\n",
       "    <tr>\n",
       "      <th>0</th>\n",
       "      <td>2024-01-31 13:00:00</td>\n",
       "      <td>2024-01-31 13:16:00</td>\n",
       "      <td>-16.0</td>\n",
       "    </tr>\n",
       "    <tr>\n",
       "      <th>1</th>\n",
       "      <td>2024-01-25 15:05:00</td>\n",
       "      <td>NaT</td>\n",
       "      <td>NaN</td>\n",
       "    </tr>\n",
       "    <tr>\n",
       "      <th>2</th>\n",
       "      <td>2024-01-27 15:40:00</td>\n",
       "      <td>2024-01-27 15:41:00</td>\n",
       "      <td>-1.0</td>\n",
       "    </tr>\n",
       "    <tr>\n",
       "      <th>3</th>\n",
       "      <td>2024-01-19 15:05:00</td>\n",
       "      <td>NaT</td>\n",
       "      <td>NaN</td>\n",
       "    </tr>\n",
       "    <tr>\n",
       "      <th>4</th>\n",
       "      <td>2024-01-25 02:55:00</td>\n",
       "      <td>2024-01-25 03:06:00</td>\n",
       "      <td>-11.0</td>\n",
       "    </tr>\n",
       "  </tbody>\n",
       "</table>\n",
       "</div>"
      ],
      "text/plain": [
       "  arrival_scheduled_time arrival_estimated_time  delay_time\n",
       "0    2024-01-31 13:00:00    2024-01-31 13:16:00       -16.0\n",
       "1    2024-01-25 15:05:00                    NaT         NaN\n",
       "2    2024-01-27 15:40:00    2024-01-27 15:41:00        -1.0\n",
       "3    2024-01-19 15:05:00                    NaT         NaN\n",
       "4    2024-01-25 02:55:00    2024-01-25 03:06:00       -11.0"
      ]
     },
     "execution_count": 25,
     "metadata": {},
     "output_type": "execute_result"
    }
   ],
   "source": [
    "x = ['departure_scheduled_time','departure_actual_time','delay_time']\n",
    "df[x].head()"
   ]
  },
  {
   "cell_type": "markdown",
   "metadata": {},
   "source": [
    "### Find day of the week"
   ]
  },
  {
   "cell_type": "code",
   "execution_count": 8,
   "metadata": {},
   "outputs": [],
   "source": [
    "df['day_of_week'] = df['departure_scheduled_time'].dt.day_name()"
   ]
  },
  {
   "cell_type": "code",
   "execution_count": 9,
   "metadata": {},
   "outputs": [
    {
     "data": {
      "text/html": [
       "<div>\n",
       "<style scoped>\n",
       "    .dataframe tbody tr th:only-of-type {\n",
       "        vertical-align: middle;\n",
       "    }\n",
       "\n",
       "    .dataframe tbody tr th {\n",
       "        vertical-align: top;\n",
       "    }\n",
       "\n",
       "    .dataframe thead th {\n",
       "        text-align: right;\n",
       "    }\n",
       "</style>\n",
       "<table border=\"1\" class=\"dataframe\">\n",
       "  <thead>\n",
       "    <tr style=\"text-align: right;\">\n",
       "      <th></th>\n",
       "      <th>day_of_week</th>\n",
       "      <th>departure_scheduled_time</th>\n",
       "    </tr>\n",
       "  </thead>\n",
       "  <tbody>\n",
       "    <tr>\n",
       "      <th>0</th>\n",
       "      <td>Wednesday</td>\n",
       "      <td>2024-01-31 13:00:00</td>\n",
       "    </tr>\n",
       "    <tr>\n",
       "      <th>1</th>\n",
       "      <td>Thursday</td>\n",
       "      <td>2024-01-25 15:05:00</td>\n",
       "    </tr>\n",
       "    <tr>\n",
       "      <th>2</th>\n",
       "      <td>Saturday</td>\n",
       "      <td>2024-01-27 15:40:00</td>\n",
       "    </tr>\n",
       "    <tr>\n",
       "      <th>3</th>\n",
       "      <td>Friday</td>\n",
       "      <td>2024-01-19 15:05:00</td>\n",
       "    </tr>\n",
       "    <tr>\n",
       "      <th>4</th>\n",
       "      <td>Thursday</td>\n",
       "      <td>2024-01-25 02:55:00</td>\n",
       "    </tr>\n",
       "  </tbody>\n",
       "</table>\n",
       "</div>"
      ],
      "text/plain": [
       "  day_of_week departure_scheduled_time\n",
       "0   Wednesday      2024-01-31 13:00:00\n",
       "1    Thursday      2024-01-25 15:05:00\n",
       "2    Saturday      2024-01-27 15:40:00\n",
       "3      Friday      2024-01-19 15:05:00\n",
       "4    Thursday      2024-01-25 02:55:00"
      ]
     },
     "execution_count": 9,
     "metadata": {},
     "output_type": "execute_result"
    }
   ],
   "source": [
    "df[['day_of_week','departure_scheduled_time']].head()"
   ]
  },
  {
   "cell_type": "code",
   "execution_count": 10,
   "metadata": {},
   "outputs": [
    {
     "data": {
      "text/plain": [
       "day_of_week                 0\n",
       "departure_scheduled_time    0\n",
       "dtype: int64"
      ]
     },
     "execution_count": 10,
     "metadata": {},
     "output_type": "execute_result"
    }
   ],
   "source": [
    "df[['day_of_week','departure_scheduled_time']].isnull().sum()"
   ]
  },
  {
   "cell_type": "markdown",
   "metadata": {},
   "source": [
    "### Find hour of the day"
   ]
  },
  {
   "cell_type": "code",
   "execution_count": 11,
   "metadata": {},
   "outputs": [],
   "source": [
    "df['hour_of_day'] = df['departure_scheduled_time'].dt.hour"
   ]
  },
  {
   "cell_type": "code",
   "execution_count": 12,
   "metadata": {},
   "outputs": [
    {
     "data": {
      "text/html": [
       "<div>\n",
       "<style scoped>\n",
       "    .dataframe tbody tr th:only-of-type {\n",
       "        vertical-align: middle;\n",
       "    }\n",
       "\n",
       "    .dataframe tbody tr th {\n",
       "        vertical-align: top;\n",
       "    }\n",
       "\n",
       "    .dataframe thead th {\n",
       "        text-align: right;\n",
       "    }\n",
       "</style>\n",
       "<table border=\"1\" class=\"dataframe\">\n",
       "  <thead>\n",
       "    <tr style=\"text-align: right;\">\n",
       "      <th></th>\n",
       "      <th>hour_of_day</th>\n",
       "      <th>departure_scheduled_time</th>\n",
       "    </tr>\n",
       "  </thead>\n",
       "  <tbody>\n",
       "    <tr>\n",
       "      <th>0</th>\n",
       "      <td>13</td>\n",
       "      <td>2024-01-31 13:00:00</td>\n",
       "    </tr>\n",
       "    <tr>\n",
       "      <th>1</th>\n",
       "      <td>15</td>\n",
       "      <td>2024-01-25 15:05:00</td>\n",
       "    </tr>\n",
       "    <tr>\n",
       "      <th>2</th>\n",
       "      <td>15</td>\n",
       "      <td>2024-01-27 15:40:00</td>\n",
       "    </tr>\n",
       "    <tr>\n",
       "      <th>3</th>\n",
       "      <td>15</td>\n",
       "      <td>2024-01-19 15:05:00</td>\n",
       "    </tr>\n",
       "    <tr>\n",
       "      <th>4</th>\n",
       "      <td>2</td>\n",
       "      <td>2024-01-25 02:55:00</td>\n",
       "    </tr>\n",
       "  </tbody>\n",
       "</table>\n",
       "</div>"
      ],
      "text/plain": [
       "   hour_of_day departure_scheduled_time\n",
       "0           13      2024-01-31 13:00:00\n",
       "1           15      2024-01-25 15:05:00\n",
       "2           15      2024-01-27 15:40:00\n",
       "3           15      2024-01-19 15:05:00\n",
       "4            2      2024-01-25 02:55:00"
      ]
     },
     "execution_count": 12,
     "metadata": {},
     "output_type": "execute_result"
    }
   ],
   "source": [
    "df[['hour_of_day','departure_scheduled_time']].head()"
   ]
  },
  {
   "cell_type": "code",
   "execution_count": 13,
   "metadata": {},
   "outputs": [
    {
     "data": {
      "text/plain": [
       "hour_of_day                 0\n",
       "departure_scheduled_time    0\n",
       "dtype: int64"
      ]
     },
     "execution_count": 13,
     "metadata": {},
     "output_type": "execute_result"
    }
   ],
   "source": [
    "df[['hour_of_day','departure_scheduled_time']].isnull().sum()"
   ]
  },
  {
   "cell_type": "code",
   "execution_count": 14,
   "metadata": {},
   "outputs": [
    {
     "data": {
      "text/html": [
       "<div>\n",
       "<style scoped>\n",
       "    .dataframe tbody tr th:only-of-type {\n",
       "        vertical-align: middle;\n",
       "    }\n",
       "\n",
       "    .dataframe tbody tr th {\n",
       "        vertical-align: top;\n",
       "    }\n",
       "\n",
       "    .dataframe thead th {\n",
       "        text-align: right;\n",
       "    }\n",
       "</style>\n",
       "<table border=\"1\" class=\"dataframe\">\n",
       "  <thead>\n",
       "    <tr style=\"text-align: right;\">\n",
       "      <th></th>\n",
       "      <th>delay_time</th>\n",
       "      <th>Month</th>\n",
       "      <th>day_of_week</th>\n",
       "      <th>hour_of_day</th>\n",
       "      <th>departure_scheduled_time</th>\n",
       "      <th>departure_actual_time</th>\n",
       "    </tr>\n",
       "  </thead>\n",
       "  <tbody>\n",
       "    <tr>\n",
       "      <th>0</th>\n",
       "      <td>16.0</td>\n",
       "      <td>Jan</td>\n",
       "      <td>Wednesday</td>\n",
       "      <td>13</td>\n",
       "      <td>2024-01-31 13:00:00</td>\n",
       "      <td>2024-01-31 13:16:00</td>\n",
       "    </tr>\n",
       "    <tr>\n",
       "      <th>1</th>\n",
       "      <td>NaN</td>\n",
       "      <td>Jan</td>\n",
       "      <td>Thursday</td>\n",
       "      <td>15</td>\n",
       "      <td>2024-01-25 15:05:00</td>\n",
       "      <td>NaT</td>\n",
       "    </tr>\n",
       "    <tr>\n",
       "      <th>2</th>\n",
       "      <td>1.0</td>\n",
       "      <td>Jan</td>\n",
       "      <td>Saturday</td>\n",
       "      <td>15</td>\n",
       "      <td>2024-01-27 15:40:00</td>\n",
       "      <td>2024-01-27 15:41:00</td>\n",
       "    </tr>\n",
       "    <tr>\n",
       "      <th>3</th>\n",
       "      <td>NaN</td>\n",
       "      <td>Jan</td>\n",
       "      <td>Friday</td>\n",
       "      <td>15</td>\n",
       "      <td>2024-01-19 15:05:00</td>\n",
       "      <td>NaT</td>\n",
       "    </tr>\n",
       "    <tr>\n",
       "      <th>4</th>\n",
       "      <td>11.0</td>\n",
       "      <td>Jan</td>\n",
       "      <td>Thursday</td>\n",
       "      <td>2</td>\n",
       "      <td>2024-01-25 02:55:00</td>\n",
       "      <td>2024-01-25 03:06:00</td>\n",
       "    </tr>\n",
       "  </tbody>\n",
       "</table>\n",
       "</div>"
      ],
      "text/plain": [
       "   delay_time Month day_of_week  hour_of_day departure_scheduled_time  \\\n",
       "0        16.0   Jan   Wednesday           13      2024-01-31 13:00:00   \n",
       "1         NaN   Jan    Thursday           15      2024-01-25 15:05:00   \n",
       "2         1.0   Jan    Saturday           15      2024-01-27 15:40:00   \n",
       "3         NaN   Jan      Friday           15      2024-01-19 15:05:00   \n",
       "4        11.0   Jan    Thursday            2      2024-01-25 02:55:00   \n",
       "\n",
       "  departure_actual_time  \n",
       "0   2024-01-31 13:16:00  \n",
       "1                   NaT  \n",
       "2   2024-01-27 15:41:00  \n",
       "3                   NaT  \n",
       "4   2024-01-25 03:06:00  "
      ]
     },
     "execution_count": 14,
     "metadata": {},
     "output_type": "execute_result"
    }
   ],
   "source": [
    "df[['delay_time','Month','day_of_week','hour_of_day','departure_scheduled_time','departure_actual_time']].head()"
   ]
  },
  {
   "cell_type": "markdown",
   "metadata": {},
   "source": [
    "## Filling nan values of delay_time column (skipped for now)"
   ]
  },
  {
   "cell_type": "code",
   "execution_count": 15,
   "metadata": {},
   "outputs": [
    {
     "data": {
      "text/plain": [
       "flight_number                   0\n",
       "airline_name                    0\n",
       "code_shared_flag                0\n",
       "type                            0\n",
       "status                          0\n",
       "departure_iata_code             0\n",
       "departure_icao_code             0\n",
       "departure_scheduled_time        0\n",
       "departure_actual_time       20582\n",
       "arrival_iata_code               0\n",
       "arrival_icao_code               0\n",
       "arrival_estimated_time      21364\n",
       "Month                           0\n",
       "Day                             0\n",
       "Temperature (°F)_max            0\n",
       "Temperature (°F)_avg            0\n",
       "Temperature (°F)_min            0\n",
       "Dew Point (°F)_max              0\n",
       "Dew Point (°F)_avg              0\n",
       "Dew Point (°F)_min              0\n",
       "Humidity (%)_max                0\n",
       "Humidity (%)_avg                0\n",
       "Humidity (%)_min                0\n",
       "Wind Speed (mph)_max            0\n",
       "Wind Speed (mph)_avg            0\n",
       "Wind Speed (mph)_min            0\n",
       "Pressure (in)_max               0\n",
       "Pressure (in)_avg               0\n",
       "Pressure (in)_min               0\n",
       "delay_time                  20582\n",
       "day_of_week                     0\n",
       "hour_of_day                     0\n",
       "dtype: int64"
      ]
     },
     "execution_count": 15,
     "metadata": {},
     "output_type": "execute_result"
    }
   ],
   "source": [
    "df.isnull().sum()"
   ]
  },
  {
   "cell_type": "code",
   "execution_count": 39,
   "metadata": {},
   "outputs": [],
   "source": [
    "df.loc[df['status'] == 'active', 'delay_time'] = df.loc[df['status'] == 'active', 'delay_time'].fillna(\n",
    "    df.loc[df['status'] == 'active', 'delay_time'].mean()\n",
    ")"
   ]
  },
  {
   "cell_type": "code",
   "execution_count": 41,
   "metadata": {},
   "outputs": [
    {
     "data": {
      "text/plain": [
       "flight_number                   0\n",
       "type                            0\n",
       "status                          0\n",
       "departure_iata_code             0\n",
       "departure_icao_code             0\n",
       "departure_scheduled_time        0\n",
       "departure_actual_time       20582\n",
       "arrival_iata_code               0\n",
       "arrival_icao_code               0\n",
       "arrival_estimated_time      21364\n",
       "Month                           0\n",
       "Day                             0\n",
       "Temperature (°F)_max            0\n",
       "Temperature (°F)_avg            0\n",
       "Temperature (°F)_min            0\n",
       "Dew Point (°F)_max              0\n",
       "Dew Point (°F)_avg              0\n",
       "Dew Point (°F)_min              0\n",
       "Humidity (%)_max                0\n",
       "Humidity (%)_avg                0\n",
       "Humidity (%)_min                0\n",
       "Wind Speed (mph)_max            0\n",
       "Wind Speed (mph)_avg            0\n",
       "Wind Speed (mph)_min            0\n",
       "Pressure (in)_max               0\n",
       "Pressure (in)_avg               0\n",
       "Pressure (in)_min               0\n",
       "delay_time                   3664\n",
       "day_of_week                     0\n",
       "hour_of_day                     0\n",
       "dtype: int64"
      ]
     },
     "execution_count": 41,
     "metadata": {},
     "output_type": "execute_result"
    }
   ],
   "source": [
    "df.isnull().sum()"
   ]
  },
  {
   "cell_type": "markdown",
   "metadata": {},
   "source": [
    "## Saving to my train.csv"
   ]
  },
  {
   "cell_type": "code",
   "execution_count": 16,
   "metadata": {},
   "outputs": [],
   "source": [
    "df.to_csv('train.csv',index=False)"
   ]
  },
  {
   "cell_type": "code",
   "execution_count": null,
   "metadata": {},
   "outputs": [],
   "source": []
  }
 ],
 "metadata": {
  "kernelspec": {
   "display_name": "ml_old_python",
   "language": "python",
   "name": "python3"
  },
  "language_info": {
   "codemirror_mode": {
    "name": "ipython",
    "version": 3
   },
   "file_extension": ".py",
   "mimetype": "text/x-python",
   "name": "python",
   "nbconvert_exporter": "python",
   "pygments_lexer": "ipython3",
   "version": "3.11.9"
  }
 },
 "nbformat": 4,
 "nbformat_minor": 2
}
