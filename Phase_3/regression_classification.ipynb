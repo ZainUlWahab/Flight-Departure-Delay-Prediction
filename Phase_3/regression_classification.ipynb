{
 "cells": [
  {
   "cell_type": "markdown",
   "metadata": {},
   "source": [
    "# Regression Classification"
   ]
  },
  {
   "cell_type": "markdown",
   "metadata": {},
   "source": [
    "## Importing Libraries"
   ]
  },
  {
   "cell_type": "code",
   "execution_count": 21,
   "metadata": {},
   "outputs": [],
   "source": [
    "from sklearn.ensemble import RandomForestRegressor\n",
    "from sklearn.model_selection import train_test_split\n",
    "from sklearn.metrics import mean_absolute_error, mean_squared_error\n",
    "from sklearn.preprocessing import StandardScaler\n",
    "from sklearn.linear_model import LinearRegression\n",
    "from sklearn.decomposition import PCA\n",
    "import numpy as np\n",
    "import pandas as pd"
   ]
  },
  {
   "cell_type": "code",
   "execution_count": 2,
   "metadata": {},
   "outputs": [],
   "source": [
    "df = pd.read_csv('encoded_train.csv')"
   ]
  },
  {
   "cell_type": "code",
   "execution_count": 3,
   "metadata": {},
   "outputs": [
    {
     "data": {
      "text/html": [
       "<div>\n",
       "<style scoped>\n",
       "    .dataframe tbody tr th:only-of-type {\n",
       "        vertical-align: middle;\n",
       "    }\n",
       "\n",
       "    .dataframe tbody tr th {\n",
       "        vertical-align: top;\n",
       "    }\n",
       "\n",
       "    .dataframe thead th {\n",
       "        text-align: right;\n",
       "    }\n",
       "</style>\n",
       "<table border=\"1\" class=\"dataframe\">\n",
       "  <thead>\n",
       "    <tr style=\"text-align: right;\">\n",
       "      <th></th>\n",
       "      <th>airline_name</th>\n",
       "      <th>type</th>\n",
       "      <th>status</th>\n",
       "      <th>departure_iata_code</th>\n",
       "      <th>departure_icao_code</th>\n",
       "      <th>Month</th>\n",
       "      <th>Day</th>\n",
       "      <th>Temperature (°F)_max</th>\n",
       "      <th>Temperature (°F)_avg</th>\n",
       "      <th>Temperature (°F)_min</th>\n",
       "      <th>...</th>\n",
       "      <th>month_Sep</th>\n",
       "      <th>icao_opis</th>\n",
       "      <th>icao_opkc</th>\n",
       "      <th>icao_opla</th>\n",
       "      <th>iata_isb</th>\n",
       "      <th>iata_khi</th>\n",
       "      <th>iata_lhe</th>\n",
       "      <th>status_active</th>\n",
       "      <th>status_cancelled</th>\n",
       "      <th>status_unknown</th>\n",
       "    </tr>\n",
       "  </thead>\n",
       "  <tbody>\n",
       "    <tr>\n",
       "      <th>0</th>\n",
       "      <td>airblue</td>\n",
       "      <td>departure</td>\n",
       "      <td>active</td>\n",
       "      <td>lhe</td>\n",
       "      <td>opla</td>\n",
       "      <td>Jan</td>\n",
       "      <td>31</td>\n",
       "      <td>61</td>\n",
       "      <td>56.8</td>\n",
       "      <td>52</td>\n",
       "      <td>...</td>\n",
       "      <td>False</td>\n",
       "      <td>False</td>\n",
       "      <td>False</td>\n",
       "      <td>True</td>\n",
       "      <td>False</td>\n",
       "      <td>False</td>\n",
       "      <td>True</td>\n",
       "      <td>True</td>\n",
       "      <td>False</td>\n",
       "      <td>False</td>\n",
       "    </tr>\n",
       "    <tr>\n",
       "      <th>1</th>\n",
       "      <td>flyjinnah</td>\n",
       "      <td>departure</td>\n",
       "      <td>active</td>\n",
       "      <td>lhe</td>\n",
       "      <td>opla</td>\n",
       "      <td>Jan</td>\n",
       "      <td>25</td>\n",
       "      <td>54</td>\n",
       "      <td>46.2</td>\n",
       "      <td>41</td>\n",
       "      <td>...</td>\n",
       "      <td>False</td>\n",
       "      <td>False</td>\n",
       "      <td>False</td>\n",
       "      <td>True</td>\n",
       "      <td>False</td>\n",
       "      <td>False</td>\n",
       "      <td>True</td>\n",
       "      <td>True</td>\n",
       "      <td>False</td>\n",
       "      <td>False</td>\n",
       "    </tr>\n",
       "    <tr>\n",
       "      <th>2</th>\n",
       "      <td>other</td>\n",
       "      <td>departure</td>\n",
       "      <td>active</td>\n",
       "      <td>lhe</td>\n",
       "      <td>opla</td>\n",
       "      <td>Jan</td>\n",
       "      <td>27</td>\n",
       "      <td>68</td>\n",
       "      <td>57.1</td>\n",
       "      <td>43</td>\n",
       "      <td>...</td>\n",
       "      <td>False</td>\n",
       "      <td>False</td>\n",
       "      <td>False</td>\n",
       "      <td>True</td>\n",
       "      <td>False</td>\n",
       "      <td>False</td>\n",
       "      <td>True</td>\n",
       "      <td>True</td>\n",
       "      <td>False</td>\n",
       "      <td>False</td>\n",
       "    </tr>\n",
       "    <tr>\n",
       "      <th>3</th>\n",
       "      <td>flyjinnah</td>\n",
       "      <td>departure</td>\n",
       "      <td>active</td>\n",
       "      <td>lhe</td>\n",
       "      <td>opla</td>\n",
       "      <td>Jan</td>\n",
       "      <td>19</td>\n",
       "      <td>57</td>\n",
       "      <td>47.4</td>\n",
       "      <td>41</td>\n",
       "      <td>...</td>\n",
       "      <td>False</td>\n",
       "      <td>False</td>\n",
       "      <td>False</td>\n",
       "      <td>True</td>\n",
       "      <td>False</td>\n",
       "      <td>False</td>\n",
       "      <td>True</td>\n",
       "      <td>True</td>\n",
       "      <td>False</td>\n",
       "      <td>False</td>\n",
       "    </tr>\n",
       "    <tr>\n",
       "      <th>4</th>\n",
       "      <td>other</td>\n",
       "      <td>departure</td>\n",
       "      <td>active</td>\n",
       "      <td>lhe</td>\n",
       "      <td>opla</td>\n",
       "      <td>Jan</td>\n",
       "      <td>25</td>\n",
       "      <td>54</td>\n",
       "      <td>46.2</td>\n",
       "      <td>41</td>\n",
       "      <td>...</td>\n",
       "      <td>False</td>\n",
       "      <td>False</td>\n",
       "      <td>False</td>\n",
       "      <td>True</td>\n",
       "      <td>False</td>\n",
       "      <td>False</td>\n",
       "      <td>True</td>\n",
       "      <td>True</td>\n",
       "      <td>False</td>\n",
       "      <td>False</td>\n",
       "    </tr>\n",
       "  </tbody>\n",
       "</table>\n",
       "<p>5 rows × 64 columns</p>\n",
       "</div>"
      ],
      "text/plain": [
       "  airline_name       type  status departure_iata_code departure_icao_code  \\\n",
       "0      airblue  departure  active                 lhe                opla   \n",
       "1    flyjinnah  departure  active                 lhe                opla   \n",
       "2        other  departure  active                 lhe                opla   \n",
       "3    flyjinnah  departure  active                 lhe                opla   \n",
       "4        other  departure  active                 lhe                opla   \n",
       "\n",
       "  Month  Day  Temperature (°F)_max  Temperature (°F)_avg  \\\n",
       "0   Jan   31                    61                  56.8   \n",
       "1   Jan   25                    54                  46.2   \n",
       "2   Jan   27                    68                  57.1   \n",
       "3   Jan   19                    57                  47.4   \n",
       "4   Jan   25                    54                  46.2   \n",
       "\n",
       "   Temperature (°F)_min  ...  month_Sep  icao_opis  icao_opkc  icao_opla  \\\n",
       "0                    52  ...      False      False      False       True   \n",
       "1                    41  ...      False      False      False       True   \n",
       "2                    43  ...      False      False      False       True   \n",
       "3                    41  ...      False      False      False       True   \n",
       "4                    41  ...      False      False      False       True   \n",
       "\n",
       "   iata_isb  iata_khi  iata_lhe  status_active  status_cancelled  \\\n",
       "0     False     False      True           True             False   \n",
       "1     False     False      True           True             False   \n",
       "2     False     False      True           True             False   \n",
       "3     False     False      True           True             False   \n",
       "4     False     False      True           True             False   \n",
       "\n",
       "   status_unknown  \n",
       "0           False  \n",
       "1           False  \n",
       "2           False  \n",
       "3           False  \n",
       "4           False  \n",
       "\n",
       "[5 rows x 64 columns]"
      ]
     },
     "execution_count": 3,
     "metadata": {},
     "output_type": "execute_result"
    }
   ],
   "source": [
    "df.head()"
   ]
  },
  {
   "cell_type": "markdown",
   "metadata": {},
   "source": [
    "## Replace negative delay times with zero"
   ]
  },
  {
   "cell_type": "code",
   "execution_count": 4,
   "metadata": {},
   "outputs": [],
   "source": [
    "df['delay_time'] = df['delay_time'].clip(lower=0)"
   ]
  },
  {
   "cell_type": "markdown",
   "metadata": {},
   "source": [
    "## Now fill nan values of active flight with mean"
   ]
  },
  {
   "cell_type": "code",
   "execution_count": 5,
   "metadata": {},
   "outputs": [
    {
     "data": {
      "text/plain": [
       "np.float64(13.484575669570829)"
      ]
     },
     "execution_count": 5,
     "metadata": {},
     "output_type": "execute_result"
    }
   ],
   "source": [
    "df['delay_time'].mean()"
   ]
  },
  {
   "cell_type": "code",
   "execution_count": 6,
   "metadata": {},
   "outputs": [],
   "source": [
    "df.loc[df['status'] == 'active', 'delay_time'] = df.loc[df['status'] == 'active', 'delay_time'].fillna(\n",
    "    df.loc[df['status'] == 'active', 'delay_time'].mean()\n",
    ")"
   ]
  },
  {
   "cell_type": "code",
   "execution_count": 7,
   "metadata": {},
   "outputs": [
    {
     "data": {
      "text/plain": [
       "np.int64(3664)"
      ]
     },
     "execution_count": 7,
     "metadata": {},
     "output_type": "execute_result"
    }
   ],
   "source": [
    "df['delay_time'].isnull().sum()"
   ]
  },
  {
   "cell_type": "markdown",
   "metadata": {},
   "source": [
    "## Transforming `delay_time` to Percentage of a Day\n",
    "\n",
    "I have scaled the `delay_time` column to represent it as a percentage of a day (24 hours) with the following approach.\n",
    "\n",
    "---\n",
    "\n",
    "1. **Each minute value** is represented as a proportion of a full day (24 hours).  \n",
    "- Formula:  \n",
    "\n",
    "  Percentage of a day = `delay_time / (24 * 60)`  \n",
    "\n",
    "- For example:  \n",
    "  - For a delay time of **15 minutes**, it becomes:  \n",
    "  15 / (24 * 60) = 0.0104  \n",
    "\n",
    "2. **For NaN values**, replace them with **1**, indicating a full day's proportion.\n"
   ]
  },
  {
   "cell_type": "code",
   "execution_count": 8,
   "metadata": {},
   "outputs": [],
   "source": [
    "df['delay_time'] = df['delay_time'].apply(lambda x: x / (24 * 60) if pd.notnull(x) else 1)"
   ]
  },
  {
   "cell_type": "markdown",
   "metadata": {},
   "source": [
    "## Get the final_df"
   ]
  },
  {
   "cell_type": "code",
   "execution_count": 11,
   "metadata": {},
   "outputs": [],
   "source": [
    "final_df = df[['Temperature (°F)_max',\n",
    "       'Temperature (°F)_avg', 'Temperature (°F)_min', 'Dew Point (°F)_max',\n",
    "       'Dew Point (°F)_avg', 'Dew Point (°F)_min', 'Humidity (%)_max',\n",
    "       'Humidity (%)_avg', 'Humidity (%)_min', 'Wind Speed (mph)_max',\n",
    "       'Wind Speed (mph)_avg', 'Wind Speed (mph)_min', 'Pressure (in)_max',\n",
    "       'Pressure (in)_avg', 'Pressure (in)_min', 'delay_time',\n",
    "       'hour_of_day', 'airline_airblue', 'airline_airsial',\n",
    "       'airline_british airways', 'airline_emirates', 'airline_flyjinnah',\n",
    "       'airline_klm', 'airline_oman air', 'airline_other',\n",
    "       'airline_pakistan international airlines', 'airline_qatar airways',\n",
    "       'airline_serene air', 'day_Friday', 'day_Monday', 'day_Saturday',\n",
    "       'day_Sunday', 'day_Thursday', 'day_Tuesday', 'day_Wednesday',\n",
    "       'month_Apr', 'month_Aug', 'month_Dec', 'month_Feb', 'month_Jan',\n",
    "       'month_Jul', 'month_Jun', 'month_Mar', 'month_May', 'month_Nov',\n",
    "       'month_Oct', 'month_Sep', 'icao_opis', 'icao_opkc', 'icao_opla',\n",
    "       'iata_isb', 'iata_khi', 'iata_lhe', 'status_active', 'status_cancelled',\n",
    "       'status_unknown']]"
   ]
  },
  {
   "cell_type": "markdown",
   "metadata": {},
   "source": [
    "## Random Forest Regressor Model prediction and analysis"
   ]
  },
  {
   "cell_type": "code",
   "execution_count": null,
   "metadata": {},
   "outputs": [],
   "source": [
    "X = final_df.drop(columns=['delay_time'])\n",
    "y = final_df['delay_time']\n",
    "X_standardized = StandardScaler().fit_transform(X)\n",
    "X_train, X_test, y_train, y_test = train_test_split(X_standardized, y, test_size=0.2, random_state=42)\n",
    "\n",
    "model = RandomForestRegressor(n_estimators=200, random_state=42)\n",
    "model.fit(X_train, y_train)\n",
    "\n",
    "y_pred = model.predict(X_test)\n",
    "\n",
    "mae = mean_absolute_error(y_test, y_pred)\n",
    "rmse = np.sqrt(mean_squared_error(y_test, y_pred))"
   ]
  },
  {
   "cell_type": "code",
   "execution_count": 17,
   "metadata": {},
   "outputs": [
    {
     "name": "stdout",
     "output_type": "stream",
     "text": [
      "Mean Absolute Error (MAE): 0.0035524727177759065\n",
      "Root Mean Square Error (RMSE): 0.005540618618585394\n"
     ]
    }
   ],
   "source": [
    "print(f\"Mean Absolute Error (MAE): {mae}\")\n",
    "print(f\"Root Mean Square Error (RMSE): {rmse}\")"
   ]
  },
  {
   "cell_type": "markdown",
   "metadata": {},
   "source": [
    "## Linear Regression Model prediction and analysis"
   ]
  },
  {
   "cell_type": "code",
   "execution_count": 22,
   "metadata": {},
   "outputs": [],
   "source": [
    "X = final_df.drop(columns=['delay_time'])\n",
    "y = final_df['delay_time']\n",
    "X_standardized = StandardScaler().fit_transform(X)"
   ]
  },
  {
   "cell_type": "code",
   "execution_count": 31,
   "metadata": {},
   "outputs": [],
   "source": [
    "pca = PCA(n_components=0.95)\n",
    "X_pca = pca.fit_transform(X_standardized)"
   ]
  },
  {
   "cell_type": "code",
   "execution_count": 32,
   "metadata": {},
   "outputs": [
    {
     "data": {
      "text/plain": [
       "((51572, 55), (51572, 33))"
      ]
     },
     "execution_count": 32,
     "metadata": {},
     "output_type": "execute_result"
    }
   ],
   "source": [
    "X_standardized.shape,X_pca.shape"
   ]
  },
  {
   "cell_type": "code",
   "execution_count": 33,
   "metadata": {},
   "outputs": [],
   "source": [
    "X_train, X_test, y_train, y_test = train_test_split(X_pca, y, test_size=0.2, random_state=42)\n",
    "model = LinearRegression()\n",
    "model.fit(X_train, y_train)\n",
    "\n",
    "# Predict on test set\n",
    "y_pred = model.predict(X_test)\n",
    "\n",
    "# Evaluate the model\n",
    "mae = mean_absolute_error(y_test, y_pred)\n",
    "rmse = np.sqrt(mean_squared_error(y_test, y_pred))"
   ]
  },
  {
   "cell_type": "code",
   "execution_count": 34,
   "metadata": {},
   "outputs": [
    {
     "name": "stdout",
     "output_type": "stream",
     "text": [
      "Mean Absolute Error (MAE): 0.026078062673738234\n",
      "Root Mean Square Error (RMSE): 0.03292988151682394\n"
     ]
    }
   ],
   "source": [
    "print(f\"Mean Absolute Error (MAE): {mae}\")\n",
    "print(f\"Root Mean Square Error (RMSE): {rmse}\")"
   ]
  }
 ],
 "metadata": {
  "kernelspec": {
   "display_name": "ml_old_python",
   "language": "python",
   "name": "python3"
  },
  "language_info": {
   "codemirror_mode": {
    "name": "ipython",
    "version": 3
   },
   "file_extension": ".py",
   "mimetype": "text/x-python",
   "name": "python",
   "nbconvert_exporter": "python",
   "pygments_lexer": "ipython3",
   "version": "3.11.9"
  }
 },
 "nbformat": 4,
 "nbformat_minor": 2
}
